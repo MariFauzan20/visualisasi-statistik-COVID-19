{
 "cells": [
  {
   "cell_type": "code",
   "execution_count": 17,
   "metadata": {},
   "outputs": [],
   "source": [
    "from bokeh.io import curdoc, output_file\n",
    "from pyproj import Proj, transform\n",
    "import pandas as pd\n",
    "import datetime as dt\n",
    "from bokeh.models import DatePicker, Select, ColumnDataSource, ColorBar\n",
    "from bokeh.palettes import Spectral6\n",
    "from bokeh.transform import linear_cmap\n",
    "from bokeh.layouts import column, row\n",
    "from bokeh.plotting import figure\n",
    "# from bokeh.tile_providers import get_provider, WIKIMEDIA, CARTODBPOSITRON, STAMEN_TERRAIN, STAMEN_TONER, ESRI_IMAGERY, OSM"
   ]
  },
  {
   "cell_type": "code",
   "execution_count": 26,
   "metadata": {},
   "outputs": [
    {
     "name": "stdout",
     "output_type": "stream",
     "text": [
      "date                            object\n",
      "location_iso_code               object\n",
      "location                        object\n",
      "new_cases                        int64\n",
      "new_deaths                       int64\n",
      "new_recovered                    int64\n",
      "new_active_cases                 int64\n",
      "total_cases                      int64\n",
      "total_deaths                     int64\n",
      "total_recovered                  int64\n",
      "total_active_cases               int64\n",
      "location_level                  object\n",
      "city_or_regency                float64\n",
      "province                        object\n",
      "country                         object\n",
      "continent                       object\n",
      "island                          object\n",
      "time_zone                       object\n",
      "special_status                  object\n",
      "total_regencies                  int64\n",
      "total_cities                   float64\n",
      "total_districts                  int64\n",
      "total_urban_villages           float64\n",
      "total_rural_villages           float64\n",
      "area_(km2)                       int64\n",
      "population                       int64\n",
      "population_density             float64\n",
      "longitude                      float64\n",
      "latitude                       float64\n",
      "new_cases_per_million          float64\n",
      "total_cases_per_million        float64\n",
      "new_deaths_per_million         float64\n",
      "total_deaths_per_million       float64\n",
      "total_deaths_per_100rb         float64\n",
      "case_fatality_rate              object\n",
      "case_recovered_rate             object\n",
      "growth_factor_of_new_cases     float64\n",
      "growth_factor_of_new_deaths    float64\n",
      "dtype: object\n",
      "False\n"
     ]
    }
   ],
   "source": [
    "df = pd.read_csv(\"./dataset/covid_19_indonesia_time_series_all.csv\")\n",
    "\n",
    "df.columns = df.columns.str.replace(\" \", \"_\")\n",
    "df.columns= df.columns.str.lower()\n",
    "# df.set_index('date', inplace=True)\n",
    "df['Date'] = pd.to_datetime(df['Date'])\n",
    "# # df.set_index('Date', inplace=True)\n",
    "\n",
    "# # Calculate the total number of values per day\n",
    "# count_per_day = df.resample('D').size()\n",
    "\n",
    "# print(count_per_day)\n",
    "df.head()\n",
    "print(df.dtypes)\n",
    "if isinstance(df['date'].dtype, dt.datetime):\n",
    "    print(\"true\")\n",
    "else:\n",
    "    print(\"False\")"
   ]
  },
  {
   "cell_type": "code",
   "execution_count": 26,
   "metadata": {},
   "outputs": [
    {
     "name": "stderr",
     "output_type": "stream",
     "text": [
      "/opt/anaconda3/lib/python3.9/site-packages/pyproj/crs/crs.py:141: FutureWarning: '+init=<authority>:<code>' syntax is deprecated. '<authority>:<code>' is the preferred initialization method. When making the change, be mindful of axis order changes: https://pyproj4.github.io/pyproj/stable/gotchas.html#axis-order-changes-in-proj-6\n",
      "  in_crs_string = _prepare_from_proj_string(in_crs_string)\n",
      "/opt/anaconda3/lib/python3.9/site-packages/pyproj/crs/crs.py:141: FutureWarning: '+init=<authority>:<code>' syntax is deprecated. '<authority>:<code>' is the preferred initialization method. When making the change, be mindful of axis order changes: https://pyproj4.github.io/pyproj/stable/gotchas.html#axis-order-changes-in-proj-6\n",
      "  in_crs_string = _prepare_from_proj_string(in_crs_string)\n",
      "/var/folders/6y/159wzbz533b68n3scnc_dvh00000gn/T/ipykernel_48171/2464227871.py:5: FutureWarning: This function is deprecated. See: https://pyproj4.github.io/pyproj/stable/gotchas.html#upgrading-to-pyproj-2-from-pyproj-1\n",
      "  ind_lon1, ind_lat1 = transform(outProj,inProj,90,-15)\n",
      "/var/folders/6y/159wzbz533b68n3scnc_dvh00000gn/T/ipykernel_48171/2464227871.py:6: FutureWarning: This function is deprecated. See: https://pyproj4.github.io/pyproj/stable/gotchas.html#upgrading-to-pyproj-2-from-pyproj-1\n",
      "  ind_lon2, ind_lat2 = transform(outProj,inProj,150,20)\n"
     ]
    }
   ],
   "source": [
    "#define beberapa variabel untuk membuat peta dengan cartodbpositron\n",
    "inProj = Proj(init='epsg:3857')\n",
    "outProj = Proj(init='epsg:4326')\n",
    "\n",
    "ind_lon1, ind_lat1 = transform(outProj,inProj,90,-15)\n",
    "ind_lon2, ind_lat2 = transform(outProj,inProj,150,20)\n",
    "# cartodb = get_provider(CARTODBPOSITRON)"
   ]
  },
  {
   "cell_type": "code",
   "execution_count": 27,
   "metadata": {},
   "outputs": [
    {
     "name": "stderr",
     "output_type": "stream",
     "text": [
      "BokehUserWarning: ColumnDataSource's columns must be of the same length. Current lengths: ('dat', 31822), ('nama', 0), ('x', 31822), ('y', 31822)\n"
     ]
    }
   ],
   "source": [
    "#define variabel 'df' dengan data pada tanggal 2020-03-01 \n",
    "data = df[df.index == '2020-03-01']\n",
    "\n",
    "#define variabel nam untuk menampung nama kolom yang di select\n",
    "nam = []\n",
    "for i in data.new_cases:\n",
    "    nam.append(\"new_cases\")\n",
    "\n",
    "#source digunakan untuk menampilkan data yang akan ditampilkan (data awal)\n",
    "source = ColumnDataSource(data={\n",
    "    'x'         : df.latitude, #define x dengan kolom mercatorX dari data dengan index tanggal 2020-03-01\n",
    "    'y'         : df.longitude, #define y dengan kolom mercatorY dari data dengan index tanggal 2020-03-01\n",
    "    'dat'       : df.new_cases, #define dat dengan kolom new_cases dari data dengan index tanggal 2020-03-01\n",
    "    'nama'      : nam #define nama dengan nama kolom new_cases \n",
    "})"
   ]
  },
  {
   "cell_type": "code",
   "execution_count": 29,
   "metadata": {},
   "outputs": [],
   "source": [
    "mapper = linear_cmap('dat', Spectral6 , 0 , 849875)\n",
    "\n",
    "#menampilkan peta pada visualisasi data\n",
    "p = figure(plot_width=900, plot_height=700,\n",
    "           x_range=(ind_lon1, ind_lon2), y_range=(ind_lat1, ind_lat2),\n",
    "           x_axis_type=\"mercator\", y_axis_type=\"mercator\",\n",
    "           tooltips=[\n",
    "                    (\"Data\", \"@nama\"), (\"Jumlah\", \"@dat\") #menampilkan data tiap kolom/data yang diselect\n",
    "                    ],\n",
    "           title=\"Covid in Indonesia\")\n",
    "\n",
    "# p.add_tile(cartodb)\n",
    "#plotting scatter plot (circle)\n",
    "p.circle(x='x', y='y',\n",
    "         size=10,\n",
    "         line_color=mapper, color=mapper,\n",
    "         fill_alpha=1.0,\n",
    "         source=source)\n",
    "#menampilkan color bar\n",
    "color_bar = ColorBar(color_mapper=mapper['transform'], width=8)\n",
    "\n",
    "p.add_layout(color_bar, 'right')\n"
   ]
  },
  {
   "cell_type": "code",
   "execution_count": 30,
   "metadata": {},
   "outputs": [],
   "source": [
    "def update_plot(attr, old, new):\n",
    "    data = df[df.index == str(dPicker.value)] #update 'df' dengan data dari index date yang di select oleh fitur datepicker\n",
    "    nam = []\n",
    "    for i in data.new_cases:\n",
    "        nam.append(str(data_select.value)) #update var nam\n",
    "    source.data = {\n",
    "        'x'         : data.MercatorX, #update x dengan kolom mercatorX dari data index date yang di select oleh fitur datepicker\n",
    "        'y'         : data.MercatorY, #define y dengan kolom mercatorY dari data index date yang di select oleh fitur datepicker\n",
    "        'dat'       : data[data_select.value], #update dat dengan kolom new_cases dari data kolom yang diselect pada fitur dropdwon select\n",
    "        'nama'      : nam #update nama dengan nama kolom sesuai dengan kolom yang diselect\n",
    "    }"
   ]
  },
  {
   "cell_type": "code",
   "execution_count": 31,
   "metadata": {},
   "outputs": [],
   "source": [
    "#define fitur interaktif date picker\n",
    "dPicker = DatePicker(\n",
    "    title = 'Date',\n",
    "    value=dt.datetime(2020, 3, 1).date(), \n",
    "    min_date= dt.datetime(2020, 3, 1).date(), max_date=dt.datetime(2021, 12, 3).date()\n",
    ")\n",
    "\n",
    "dPicker.on_change('value', update_plot)\n",
    "\n",
    "#define fitur interaktif dropdown dan select\n",
    "data_select = Select(\n",
    "    options=['new_cases', 'new_deaths',\t'new_recovered', 'new_activeCases', 'total_cases', 'total_deaths',\t'total_recovered', 'total_activeCases'],\n",
    "    value='new_cases',\n",
    "    title='x-axis data'\n",
    ")\n",
    "\n",
    "data_select.on_change('value', update_plot)"
   ]
  },
  {
   "cell_type": "code",
   "execution_count": 34,
   "metadata": {},
   "outputs": [
    {
     "name": "stderr",
     "output_type": "stream",
     "text": [
      "BokehDeprecationWarning: 'WidgetBox' is deprecated and will be removed in Bokeh 3.0, use 'bokeh.models.Column' instead\n"
     ]
    }
   ],
   "source": [
    "#memasukan seluruh fitur interaktif dan juga plotingan kedalam layout\n",
    "layout = row(column(dPicker, data_select), p) \n",
    "curdoc().add_root(layout)\n",
    "output_file(\"final.html\")\n"
   ]
  }
 ],
 "metadata": {
  "kernelspec": {
   "display_name": "base",
   "language": "python",
   "name": "python3"
  },
  "language_info": {
   "codemirror_mode": {
    "name": "ipython",
    "version": 3
   },
   "file_extension": ".py",
   "mimetype": "text/x-python",
   "name": "python",
   "nbconvert_exporter": "python",
   "pygments_lexer": "ipython3",
   "version": "3.9.13 (main, Aug 25 2022, 18:29:29) \n[Clang 12.0.0 ]"
  },
  "orig_nbformat": 4,
  "vscode": {
   "interpreter": {
    "hash": "40d3a090f54c6569ab1632332b64b2c03c39dcf918b08424e98f38b5ae0af88f"
   }
  }
 },
 "nbformat": 4,
 "nbformat_minor": 2
}
